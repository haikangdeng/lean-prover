{
 "cells": [
  {
   "cell_type": "code",
   "execution_count": null,
   "id": "614aff8f",
   "metadata": {},
   "outputs": [],
   "source": [
    "from transformers import AutoModelForCausalLM, AutoTokenizer\n",
    "import torch\n",
    "import os\n",
    "import json"
   ]
  },
  {
   "cell_type": "code",
   "execution_count": 4,
   "id": "84821054",
   "metadata": {},
   "outputs": [
    {
     "data": {
      "application/vnd.jupyter.widget-view+json": {
       "model_id": "d04522af2d1d45d8ba01b678e894dd6c",
       "version_major": 2,
       "version_minor": 0
      },
      "text/plain": [
       "tokenizer_config.json:   0%|          | 0.00/3.88k [00:00<?, ?B/s]"
      ]
     },
     "metadata": {},
     "output_type": "display_data"
    },
    {
     "data": {
      "application/vnd.jupyter.widget-view+json": {
       "model_id": "a899f5b8c77c4c8ea71d8780508cf3b0",
       "version_major": 2,
       "version_minor": 0
      },
      "text/plain": [
       "tokenizer.json:   0%|          | 0.00/4.61M [00:00<?, ?B/s]"
      ]
     },
     "metadata": {},
     "output_type": "display_data"
    },
    {
     "data": {
      "application/vnd.jupyter.widget-view+json": {
       "model_id": "34cf19a6e05643008ee52ea24ad776ee",
       "version_major": 2,
       "version_minor": 0
      },
      "text/plain": [
       "config.json:   0%|          | 0.00/833 [00:00<?, ?B/s]"
      ]
     },
     "metadata": {},
     "output_type": "display_data"
    },
    {
     "name": "stderr",
     "output_type": "stream",
     "text": [
      "`rope_scaling`'s factor field must be a float >= 1, got 16\n",
      "`rope_scaling`'s beta_fast field must be a float, got 32\n",
      "`rope_scaling`'s beta_slow field must be a float, got 1\n"
     ]
    },
    {
     "data": {
      "application/vnd.jupyter.widget-view+json": {
       "model_id": "c2bdf447048a4181a4b1b1ddcf331d02",
       "version_major": 2,
       "version_minor": 0
      },
      "text/plain": [
       "model.safetensors.index.json:   0%|          | 0.00/22.7k [00:00<?, ?B/s]"
      ]
     },
     "metadata": {},
     "output_type": "display_data"
    },
    {
     "data": {
      "application/vnd.jupyter.widget-view+json": {
       "model_id": "bce5889e136e4641ae02be90622685cc",
       "version_major": 2,
       "version_minor": 0
      },
      "text/plain": [
       "Fetching 2 files:   0%|          | 0/2 [00:00<?, ?it/s]"
      ]
     },
     "metadata": {},
     "output_type": "display_data"
    },
    {
     "data": {
      "application/vnd.jupyter.widget-view+json": {
       "model_id": "8148ddbbc5ed4d5cbf3d8e468dd0212c",
       "version_major": 2,
       "version_minor": 0
      },
      "text/plain": [
       "model-00001-of-000002.safetensors:   0%|          | 0.00/8.60G [00:00<?, ?B/s]"
      ]
     },
     "metadata": {},
     "output_type": "display_data"
    },
    {
     "data": {
      "application/vnd.jupyter.widget-view+json": {
       "model_id": "e0c40a2de41743529ddf6188838ccae5",
       "version_major": 2,
       "version_minor": 0
      },
      "text/plain": [
       "model-00002-of-000002.safetensors:   0%|          | 0.00/5.22G [00:00<?, ?B/s]"
      ]
     },
     "metadata": {},
     "output_type": "display_data"
    },
    {
     "data": {
      "application/vnd.jupyter.widget-view+json": {
       "model_id": "2d59bbb09eb942b9beb40740d5f1d042",
       "version_major": 2,
       "version_minor": 0
      },
      "text/plain": [
       "Loading checkpoint shards:   0%|          | 0/2 [00:00<?, ?it/s]"
      ]
     },
     "metadata": {},
     "output_type": "display_data"
    }
   ],
   "source": [
    "from transformers import AutoModelForCausalLM, AutoTokenizer\n",
    "import torch\n",
    "torch.manual_seed(30)\n",
    "\n",
    "model_id = \"deepseek-ai/DeepSeek-Prover-V2-7B\"  # or DeepSeek-Prover-V2-671B\n",
    "tokenizer = AutoTokenizer.from_pretrained(model_id)\n",
    "\n",
    "model = AutoModelForCausalLM.from_pretrained(model_id, device_map=\"cuda:0\", torch_dtype=torch.bfloat16, trust_remote_code=True)\n"
   ]
  },
  {
   "cell_type": "markdown",
   "id": "84689f62",
   "metadata": {},
   "source": [
    "### CoT Generation"
   ]
  },
  {
   "cell_type": "code",
   "execution_count": null,
   "id": "208e704a",
   "metadata": {},
   "outputs": [],
   "source": [
    "formal_statement = \"\"\"\n",
    "import Mathlib\n",
    "import Aesop\n",
    "\n",
    "set_option maxHeartbeats 0\n",
    "\n",
    "open BigOperators Real Nat Topology Rat\n",
    "\n",
    "/-- What is the positive difference between $120\\%$ of 30 and $130\\%$ of 20? Show that it is 10.-/\n",
    "theorem mathd_algebra_10 : abs ((120 : ℝ) / 100 * 30 - 130 / 100 * 20) = 10 := by\n",
    "  sorry\n",
    "\"\"\".strip()\n",
    "\n",
    "\n",
    "prompt = \"\"\"\n",
    "Complete the following Lean 4 code:\n",
    "\n",
    "```lean4\n",
    "{}\n",
    "```\n",
    "\n",
    "Before producing the Lean 4 code to formally prove the given theorem, provide a detailed proof plan outlining the main proof steps and strategies.\n",
    "The plan should highlight key ideas, intermediate lemmas, and proof structures that will guide the construction of the final formal proof.\n",
    "\"\"\".strip()\n",
    "\n",
    "chat = [\n",
    "  {\"role\": \"user\", \"content\": prompt.format(formal_statement)},\n",
    "]\n",
    "inputs = tokenizer.apply_chat_template(chat, tokenize=True, add_generation_prompt=True, return_tensors=\"pt\").to(model.device)\n",
    "\n"
   ]
  },
  {
   "cell_type": "code",
   "execution_count": 3,
   "id": "ed59017b",
   "metadata": {},
   "outputs": [
    {
     "name": "stderr",
     "output_type": "stream",
     "text": [
      "The attention mask and the pad token id were not set. As a consequence, you may observe unexpected behavior. Please pass your input's `attention_mask` to obtain reliable results.\n",
      "Setting `pad_token_id` to `eos_token_id`:100001 for open-end generation.\n",
      "The attention mask is not set and cannot be inferred from input because pad token is same as eos token. As a consequence, you may observe unexpected behavior. Please pass your input's `attention_mask` to obtain reliable results.\n"
     ]
    },
    {
     "name": "stdout",
     "output_type": "stream",
     "text": [
      "['<｜begin▁of▁sentence｜><｜User｜>Complete the following Lean 4 code:\\n\\n```lean4\\nimport Mathlib\\nimport Aesop\\n\\nset_option maxHeartbeats 0\\n\\nopen BigOperators Real Nat Topology Rat\\n\\n/-- What is the positive difference between $120\\\\%$ of 30 and $130\\\\%$ of 20? Show that it is 10.-/\\ntheorem mathd_algebra_10 : abs ((120 : ℝ) / 100 * 30 - 130 / 100 * 20) = 10 := by\\n  sorry\\n```\\n\\nBefore producing the Lean 4 code to formally prove the given theorem, provide a detailed proof plan outlining the main proof steps and strategies.\\nThe plan should highlight key ideas, intermediate lemmas, and proof structures that will guide the construction of the final formal proof.<｜Assistant｜>### Detailed Proof and Analysis\\n\\nFirst, we need to understand the problem:\\n\\n**Problem:** What is the positive difference between \\\\(120\\\\%\\\\) of \\\\(30\\\\) and \\\\(130\\\\%\\\\) of \\\\(20\\\\)? Show that it is \\\\(10\\\\).\\n\\n**Solution:**\\n\\n1. **Calculate \\\\(120\\\\%\\\\) of \\\\(30\\\\):**\\n   \\\\[\\n   \\\\frac{120}{100} \\\\times 30 = \\\\frac{120 \\\\times 30}{100} = \\\\frac{3600}{100} = 36\\n   \\\\]\\n\\n2. **Calculate \\\\(130\\\\%\\\\) of \\\\(20\\\\):**\\n   \\\\[\\n   \\\\frac{130}{100} \\\\times 20 = \\\\frac{130 \\\\times 20}{100} = \\\\frac{2600}{100} = 26\\n   \\\\]\\n\\n3. **Find the positive difference:**\\n   The positive difference between \\\\(36\\\\) and \\\\(26\\\\) is \\\\(36 - 26 = 10\\\\).\\n\\n4. **Verification:**\\n   The absolute value of the difference is:\\n   \\\\[\\n   |36 - 26| = 10\\n   \\\\]\\n   This is correct because \\\\(36 - 26 = 10\\\\) and the absolute value is \\\\(10\\\\).\\n\\nAlternatively, we can directly compute the expression inside the absolute value:\\n\\\\[\\n\\\\left| \\\\frac{120}{100} \\\\times 30 - \\\\frac{130}{100} \\\\times 20 \\\\right| = \\\\left| \\\\frac{3600}{100} - \\\\frac{2600}{100} \\\\right| = \\\\left| \\\\frac{1000}{100} \\\\right| = 10\\n\\\\]\\n\\n### Step-by-Step Abstract Plan\\n\\n1. **Calculate \\\\(120\\\\%\\\\) of \\\\(30\\\\):**\\n   - Multiply \\\\(120/100\\\\) by \\\\(30\\\\) to get \\\\(36\\\\).\\n\\n2. **Calculate \\\\(130\\\\%\\\\) of \\\\(20\\\\):**\\n   - Multiply \\\\(130/100\\\\) by \\\\(20\\\\) to get \\\\(26\\\\).\\n\\n3. **Find the difference:**\\n   - Subtract the smaller from the larger to get \\\\(36 - 26 = 10\\\\).\\n\\n4. **Take the absolute value:**\\n   - The absolute value of the difference is \\\\(10\\\\).\\n\\n### Lean 4 Proof Sketch with `have` Statements\\n\\n```lean4\\ntheorem mathd_algebra_10 : abs ((120 : ℝ) / 100 * 30 - 130 / 100 * 20) = 10 := by\\n  have h_main : (120 : ℝ) / 100 * 30 - 130 / 100 * 20 = 10 ∨ (120 : ℝ) / 100 * 30 - 130 / 100 * 20 = -10 := by\\n    sorry\\n  have h_final : abs ((120 : ℝ) / 100 * 30 - 130 / 100 * 20) = 10 := by\\n    sorry\\n  exact h_final\\n```\\n\\n### Explanation:\\n1. `h_main` states that the expression inside the absolute value is either \\\\(10\\\\) or \\\\(-10\\\\). This is because:\\n   \\\\[\\n   \\\\frac{120}{100} \\\\times 30 - \\\\frac{130}{100} \\\\times 20 = \\\\frac{3600}{100} - \\\\frac{2600}{100} = \\\\frac{1000}{100} = 10\\n   \\\\]\\n   However, the Lean statement is slightly more general because it allows for the possibility that the expression is \\\\(-10\\\\) (but in this case, it is not). The `sorry` here is a placeholder for the actual calculation.\\n\\n2. `h_final` uses `h_main` to conclude that the absolute value is \\\\(10\\\\). The `sorry` here is a placeholder for the actual proof, which would use the disjunction from `h_main` to simplify the absolute value.\\n\\n### Complete Lean 4 Proof\\n\\n```lean4\\ntheorem mathd_algebra_10 : abs ((120 : ℝ) / 100 * 30 - 130 / 100 * 20) = 10 := by\\n  have h_main : (120 : ℝ) / 100 * 30 - 130 / 100 * 20 = 10 ∨ (120 : ℝ) / 100 * 30 - 130 / 100 * 20 = -10 := by\\n    apply Or.inl\\n    norm_num\\n    <;>\\n    ring_nf\\n    <;>\\n    norm_num\\n    <;>\\n    linarith\\n  \\n  have h_final : abs ((120 : ℝ) / 100 * 30 - 130 / 100 * 20) = 10 := by\\n    cases h_main with\\n    | inl h_main =>\\n      -- Case: (120 : ℝ) / 100 * 30 - 130 / 100 * 20 = 10\\n      rw [h_main]\\n      simp [abs_of_nonneg]\\n      <;> norm_num\\n    | inr h_main =>\\n      -- Case: (120 : ℝ) / 100 * 30 - 130 / 100 * 20 = -10\\n      rw [h_main]\\n      simp [abs_of_nonpos]\\n      <;> norm_num\\n      <;> linarith\\n  \\n  exact h_final\\n```<｜end▁of▁sentence｜>']\n",
      "27.03708267211914\n"
     ]
    }
   ],
   "source": [
    "import time\n",
    "start = time.time()\n",
    "outputs = model.generate(inputs, max_new_tokens=8192)\n",
    "print(tokenizer.batch_decode(outputs))\n",
    "print(time.time() - start)"
   ]
  },
  {
   "cell_type": "code",
   "execution_count": 7,
   "id": "317e5b53",
   "metadata": {},
   "outputs": [
    {
     "name": "stdout",
     "output_type": "stream",
     "text": [
      "<｜begin▁of▁sentence｜><｜User｜>Complete the following Lean 4 code:\n",
      "\n",
      "```lean4\n",
      "import Mathlib\n",
      "import Aesop\n",
      "\n",
      "set_option maxHeartbeats 0\n",
      "\n",
      "open BigOperators Real Nat Topology Rat\n",
      "\n",
      "/-- What is the positive difference between $120\\%$ of 30 and $130\\%$ of 20? Show that it is 10.-/\n",
      "theorem mathd_algebra_10 : abs ((120 : ℝ) / 100 * 30 - 130 / 100 * 20) = 10 := by\n",
      "  sorry\n",
      "```\n",
      "\n",
      "Before producing the Lean 4 code to formally prove the given theorem, provide a detailed proof plan outlining the main proof steps and strategies.\n",
      "The plan should highlight key ideas, intermediate lemmas, and proof structures that will guide the construction of the final formal proof.<｜Assistant｜>### Detailed Proof and Analysis\n",
      "\n",
      "First, we need to understand the problem:\n",
      "\n",
      "**Problem:** What is the positive difference between \\(120\\%\\) of \\(30\\) and \\(130\\%\\) of \\(20\\)? Show that it is \\(10\\).\n",
      "\n",
      "**Solution:**\n",
      "\n",
      "1. **Calculate \\(120\\%\\) of \\(30\\):**\n",
      "   \\[\n",
      "   \\frac{120}{100} \\times 30 = \\frac{120 \\times 30}{100} = \\frac{3600}{100} = 36\n",
      "   \\]\n",
      "\n",
      "2. **Calculate \\(130\\%\\) of \\(20\\):**\n",
      "   \\[\n",
      "   \\frac{130}{100} \\times 20 = \\frac{130 \\times 20}{100} = \\frac{2600}{100} = 26\n",
      "   \\]\n",
      "\n",
      "3. **Find the positive difference:**\n",
      "   The positive difference between \\(36\\) and \\(26\\) is \\(36 - 26 = 10\\).\n",
      "\n",
      "4. **Verification:**\n",
      "   The absolute value of the difference is:\n",
      "   \\[\n",
      "   |36 - 26| = 10\n",
      "   \\]\n",
      "   This is correct because \\(36 - 26 = 10\\) and the absolute value is \\(10\\).\n",
      "\n",
      "Alternatively, we can directly compute the expression inside the absolute value:\n",
      "\\[\n",
      "\\left| \\frac{120}{100} \\times 30 - \\frac{130}{100} \\times 20 \\right| = \\left| \\frac{3600}{100} - \\frac{2600}{100} \\right| = \\left| \\frac{1000}{100} \\right| = 10\n",
      "\\]\n",
      "\n",
      "### Step-by-Step Abstract Plan\n",
      "\n",
      "1. **Calculate \\(120\\%\\) of \\(30\\):**\n",
      "   - Multiply \\(120/100\\) by \\(30\\) to get \\(36\\).\n",
      "\n",
      "2. **Calculate \\(130\\%\\) of \\(20\\):**\n",
      "   - Multiply \\(130/100\\) by \\(20\\) to get \\(26\\).\n",
      "\n",
      "3. **Find the difference:**\n",
      "   - Subtract the smaller from the larger to get \\(36 - 26 = 10\\).\n",
      "\n",
      "4. **Take the absolute value:**\n",
      "   - The absolute value of the difference is \\(10\\).\n",
      "\n",
      "### Lean 4 Proof Sketch with `have` Statements\n",
      "\n",
      "```lean4\n",
      "theorem mathd_algebra_10 : abs ((120 : ℝ) / 100 * 30 - 130 / 100 * 20) = 10 := by\n",
      "  have h_main : (120 : ℝ) / 100 * 30 - 130 / 100 * 20 = 10 ∨ (120 : ℝ) / 100 * 30 - 130 / 100 * 20 = -10 := by\n",
      "    sorry\n",
      "  have h_final : abs ((120 : ℝ) / 100 * 30 - 130 / 100 * 20) = 10 := by\n",
      "    sorry\n",
      "  exact h_final\n",
      "```\n",
      "\n",
      "### Explanation:\n",
      "1. `h_main` states that the expression inside the absolute value is either \\(10\\) or \\(-10\\). This is because:\n",
      "   \\[\n",
      "   \\frac{120}{100} \\times 30 - \\frac{130}{100} \\times 20 = \\frac{3600}{100} - \\frac{2600}{100} = \\frac{1000}{100} = 10\n",
      "   \\]\n",
      "   However, the Lean statement is slightly more general because it allows for the possibility that the expression is \\(-10\\) (but in this case, it is not). The `sorry` here is a placeholder for the actual calculation.\n",
      "\n",
      "2. `h_final` uses `h_main` to conclude that the absolute value is \\(10\\). The `sorry` here is a placeholder for the actual proof, which would use the disjunction from `h_main` to simplify the absolute value.\n",
      "\n",
      "### Complete Lean 4 Proof\n",
      "\n",
      "```lean4\n",
      "theorem mathd_algebra_10 : abs ((120 : ℝ) / 100 * 30 - 130 / 100 * 20) = 10 := by\n",
      "  have h_main : (120 : ℝ) / 100 * 30 - 130 / 100 * 20 = 10 ∨ (120 : ℝ) / 100 * 30 - 130 / 100 * 20 = -10 := by\n",
      "    apply Or.inl\n",
      "    norm_num\n",
      "    <;>\n",
      "    ring_nf\n",
      "    <;>\n",
      "    norm_num\n",
      "    <;>\n",
      "    linarith\n",
      "  \n",
      "  have h_final : abs ((120 : ℝ) / 100 * 30 - 130 / 100 * 20) = 10 := by\n",
      "    cases h_main with\n",
      "    | inl h_main =>\n",
      "      -- Case: (120 : ℝ) / 100 * 30 - 130 / 100 * 20 = 10\n",
      "      rw [h_main]\n",
      "      simp [abs_of_nonneg]\n",
      "      <;> norm_num\n",
      "    | inr h_main =>\n",
      "      -- Case: (120 : ℝ) / 100 * 30 - 130 / 100 * 20 = -10\n",
      "      rw [h_main]\n",
      "      simp [abs_of_nonpos]\n",
      "      <;> norm_num\n",
      "      <;> linarith\n",
      "  \n",
      "  exact h_final\n",
      "```<｜end▁of▁sentence｜>\n"
     ]
    }
   ],
   "source": [
    "text = tokenizer.batch_decode(outputs)[0]\n",
    "print(text)"
   ]
  },
  {
   "cell_type": "markdown",
   "id": "7139735a",
   "metadata": {},
   "source": [
    "### Non-CoT Generation"
   ]
  },
  {
   "cell_type": "code",
   "execution_count": 9,
   "id": "f9a7d7b7",
   "metadata": {},
   "outputs": [],
   "source": [
    "formal_statement = \"\"\"\n",
    "import Mathlib\n",
    "import Aesop\n",
    "\n",
    "set_option maxHeartbeats 0\n",
    "\n",
    "open BigOperators Real Nat Topology Rat\n",
    "\n",
    "/-- What is the positive difference between $120\\%$ of 30 and $130\\%$ of 20? Show that it is 10.-/\n",
    "theorem mathd_algebra_10 : abs ((120 : ℝ) / 100 * 30 - 130 / 100 * 20) = 10 := by\n",
    "  sorry\n",
    "\"\"\".strip()\n",
    "\n",
    "\n",
    "prompt = \"\"\"\n",
    "Complete the following Lean 4 code:\n",
    "\n",
    "```lean4\n",
    "{}\n",
    "```\n",
    "\"\"\".strip()\n",
    "\n",
    "\n",
    "chat = [\n",
    "  {\"role\": \"user\", \"content\": prompt.format(formal_statement)},\n",
    "]\n",
    "inputs = tokenizer.apply_chat_template(chat, tokenize=True, add_generation_prompt=True, return_tensors=\"pt\").to(model.device)"
   ]
  },
  {
   "cell_type": "code",
   "execution_count": 10,
   "id": "b5a6e10b",
   "metadata": {},
   "outputs": [
    {
     "name": "stderr",
     "output_type": "stream",
     "text": [
      "The attention mask and the pad token id were not set. As a consequence, you may observe unexpected behavior. Please pass your input's `attention_mask` to obtain reliable results.\n",
      "Setting `pad_token_id` to `eos_token_id`:100001 for open-end generation.\n"
     ]
    },
    {
     "name": "stdout",
     "output_type": "stream",
     "text": [
      "<｜begin▁of▁sentence｜><｜User｜>Complete the following Lean 4 code:\n",
      "\n",
      "```lean4\n",
      "import Mathlib\n",
      "import Aesop\n",
      "\n",
      "set_option maxHeartbeats 0\n",
      "\n",
      "open BigOperators Real Nat Topology Rat\n",
      "\n",
      "/-- What is the positive difference between $120\\%$ of 30 and $130\\%$ of 20? Show that it is 10.-/\n",
      "theorem mathd_algebra_10 : abs ((120 : ℝ) / 100 * 30 - 130 / 100 * 20) = 10 := by\n",
      "  sorry\n",
      "```<｜Assistant｜>```lean4\n",
      "theorem mathd_algebra_10 : abs ((120 : ℝ) / 100 * 30 - 130 / 100 * 20) = 10 := by\n",
      "  norm_num [abs_eq_self.mpr, abs_eq_neg_self.mpr, div_eq_mul_inv, mul_assoc]\n",
      "  <;> ring_nf\n",
      "  <;> norm_num\n",
      "  <;> apply abs_of_nonneg\n",
      "  <;> norm_num\n",
      "  <;> apply abs_of_nonneg\n",
      "  <;> norm_num\n",
      "  <;> apply abs_of_nonneg\n",
      "  <;> norm_num\n",
      "```<｜end▁of▁sentence｜>\n",
      "2.7036092281341553\n"
     ]
    }
   ],
   "source": [
    "import time\n",
    "start = time.time()\n",
    "outputs = model.generate(inputs, max_new_tokens=8192)\n",
    "print(tokenizer.batch_decode(outputs)[0])\n",
    "print(time.time() - start)"
   ]
  },
  {
   "cell_type": "code",
   "execution_count": null,
   "id": "e5a67e46",
   "metadata": {},
   "outputs": [],
   "source": []
  },
  {
   "cell_type": "markdown",
   "id": "f40aac24",
   "metadata": {},
   "source": [
    "### Python Interface for Lean4"
   ]
  },
  {
   "cell_type": "code",
   "execution_count": null,
   "id": "d15aa25a",
   "metadata": {},
   "outputs": [],
   "source": [
    "from lean_interact import LeanREPLConfig, LeanServer, Command, FileCommand\n",
    "\n",
    "config = LeanREPLConfig(verbose=True) # download and build Lean REPL\n",
    "server = LeanServer(config) # start Lean REPL\n",
    "\n",
    "# Execute a Lean file\n",
    "response = server.run(FileCommand(path=\"myfile.lean\"))"
   ]
  },
  {
   "cell_type": "code",
   "execution_count": null,
   "id": "0e35e792",
   "metadata": {},
   "outputs": [],
   "source": []
  },
  {
   "cell_type": "code",
   "execution_count": null,
   "id": "34e7fc81",
   "metadata": {},
   "outputs": [],
   "source": []
  },
  {
   "cell_type": "markdown",
   "id": "d6baf0dd",
   "metadata": {},
   "source": [
    "### Execute Lean to Verify Correctness"
   ]
  },
  {
   "cell_type": "code",
   "execution_count": 1,
   "id": "3d0d06cb",
   "metadata": {},
   "outputs": [],
   "source": [
    "lean_code = \"\"\"\n",
    "theorem my_theorem : 1 + 1 = 2 :=\n",
    "by rfl\n",
    "\"\"\"\n",
    "\n",
    "with open(\"verify_this.lean\", \"w\") as f:\n",
    "    f.write(lean_code)"
   ]
  },
  {
   "cell_type": "code",
   "execution_count": 3,
   "id": "e40f1211",
   "metadata": {},
   "outputs": [
    {
     "name": "stdout",
     "output_type": "stream",
     "text": [
      "Lean code verification successful!\n"
     ]
    }
   ],
   "source": [
    "import subprocess\n",
    "\n",
    "lean_dir = \"/data2/haikang/projects/math-rl/lean-project\"\n",
    "# run subprocess in lean_dir\n",
    "process = subprocess.run([\"lake\", \"env\", \"lean\", \"verify_this.lean\"], cwd=lean_dir, capture_output=True, text=True)\n",
    "\n",
    "if process.returncode == 0:\n",
    "    print(\"Lean code verification successful!\")\n",
    "else:\n",
    "    print(\"Lean code verification failed:\")\n",
    "    print(process.stderr)"
   ]
  },
  {
   "cell_type": "code",
   "execution_count": null,
   "id": "86e25a24",
   "metadata": {},
   "outputs": [],
   "source": []
  },
  {
   "cell_type": "markdown",
   "id": "33d03526",
   "metadata": {},
   "source": [
    "## Magma"
   ]
  },
  {
   "cell_type": "code",
   "execution_count": 10,
   "id": "1a3af4cf",
   "metadata": {},
   "outputs": [],
   "source": [
    "formal_statement = \"\"\"\n",
    "import Mathlib\n",
    "import Aesop\n",
    "\n",
    "set_option maxHeartbeats 0\n",
    "\n",
    "open BigOperators Real Nat Topology Rat\n",
    "\n",
    "class Magma (α : Type _) where\n",
    "  op : α → α → α\n",
    "\n",
    "infix:65 \" ◇ \" => Magma.op\n",
    "\n",
    "abbrev Equation2 (G: Type _) [Magma G] := ∀ x y : G, x = y\n",
    "\n",
    "abbrev Equation4 (G: Type _) [Magma G] := ∀ x y : G, x = x ◇ y\n",
    "\n",
    "theorem Equation2_implies_Equation4 (G: Type _) [Magma G] (h: Equation2 G) : Equation4 G := by\n",
    "  sorry\n",
    "\"\"\".strip()\n",
    "\n",
    "\n",
    "prompt = \"\"\"\n",
    "Complete the following Lean 4 code:\n",
    "\n",
    "```lean4\n",
    "{}\n",
    "```\n",
    "\"\"\".strip()\n",
    "\n",
    "\n",
    "chat = [\n",
    "  {\"role\": \"user\", \"content\": prompt.format(formal_statement)},\n",
    "]\n",
    "inputs = tokenizer.apply_chat_template(chat, tokenize=True, add_generation_prompt=True, return_tensors=\"pt\").to(model.device)\n"
   ]
  },
  {
   "cell_type": "code",
   "execution_count": 11,
   "id": "cfff2c20",
   "metadata": {},
   "outputs": [
    {
     "name": "stderr",
     "output_type": "stream",
     "text": [
      "The attention mask and the pad token id were not set. As a consequence, you may observe unexpected behavior. Please pass your input's `attention_mask` to obtain reliable results.\n",
      "Setting `pad_token_id` to `eos_token_id`:100001 for open-end generation.\n"
     ]
    },
    {
     "name": "stdout",
     "output_type": "stream",
     "text": [
      "<｜begin▁of▁sentence｜><｜User｜>Complete the following Lean 4 code:\n",
      "\n",
      "```lean4\n",
      "import Mathlib\n",
      "import Aesop\n",
      "\n",
      "set_option maxHeartbeats 0\n",
      "\n",
      "open BigOperators Real Nat Topology Rat\n",
      "\n",
      "class Magma (α : Type _) where\n",
      "  op : α → α → α\n",
      "\n",
      "infix:65 \" ◇ \" => Magma.op\n",
      "\n",
      "abbrev Equation2 (G: Type _) [Magma G] := ∀ x y : G, x = y\n",
      "\n",
      "abbrev Equation4 (G: Type _) [Magma G] := ∀ x y : G, x = x ◇ y\n",
      "\n",
      "theorem Equation2_implies_Equation4 (G: Type _) [Magma G] (h: Equation2 G) : Equation4 G := by\n",
      "  sorry\n",
      "```<｜Assistant｜>```lean4\n",
      "theorem Equation2_implies_Equation4 (G: Type _) [Magma G] (h: Equation2 G) : Equation4 G := by\n",
      "  intro x y\n",
      "  have h1 := h (x ◇ y) (x ◇ y)\n",
      "  have h2 := h x y\n",
      "  have h3 := h y x\n",
      "  have h4 := h (x ◇ y) x\n",
      "  have h5 := h (x ◇ y) y\n",
      "  have h6 := h x (x ◇ y)\n",
      "  have h7 := h y (x ◇ y)\n",
      "  -- Simplify the expressions using the given equality x = y\n",
      "  simp_all\n",
      "```<｜end▁of▁sentence｜>\n",
      "2.5087499618530273\n"
     ]
    }
   ],
   "source": [
    "import time\n",
    "start = time.time()\n",
    "outputs = model.generate(inputs, max_new_tokens=8192)\n",
    "print(tokenizer.batch_decode(outputs)[0])\n",
    "print(time.time() - start)"
   ]
  },
  {
   "cell_type": "code",
   "execution_count": 12,
   "id": "f1da7feb",
   "metadata": {},
   "outputs": [],
   "source": [
    "prompt = \"\"\"\n",
    "Complete the following Lean 4 code:\n",
    "\n",
    "```lean4\n",
    "{}\n",
    "```\n",
    "\n",
    "Before producing the Lean 4 code to formally prove the given theorem, provide a detailed proof plan outlining the main proof steps and strategies.\n",
    "The plan should highlight key ideas, intermediate lemmas, and proof structures that will guide the construction of the final formal proof.\n",
    "\"\"\".strip()\n",
    "\n",
    "chat = [\n",
    "  {\"role\": \"user\", \"content\": prompt.format(formal_statement)},\n",
    "]\n",
    "inputs = tokenizer.apply_chat_template(chat, tokenize=True, add_generation_prompt=True, return_tensors=\"pt\").to(model.device)"
   ]
  },
  {
   "cell_type": "code",
   "execution_count": 13,
   "id": "fd152492",
   "metadata": {},
   "outputs": [
    {
     "name": "stderr",
     "output_type": "stream",
     "text": [
      "The attention mask and the pad token id were not set. As a consequence, you may observe unexpected behavior. Please pass your input's `attention_mask` to obtain reliable results.\n",
      "Setting `pad_token_id` to `eos_token_id`:100001 for open-end generation.\n"
     ]
    },
    {
     "name": "stdout",
     "output_type": "stream",
     "text": [
      "<｜begin▁of▁sentence｜><｜User｜>Complete the following Lean 4 code:\n",
      "\n",
      "```lean4\n",
      "import Mathlib\n",
      "import Aesop\n",
      "\n",
      "set_option maxHeartbeats 0\n",
      "\n",
      "open BigOperators Real Nat Topology Rat\n",
      "\n",
      "class Magma (α : Type _) where\n",
      "  op : α → α → α\n",
      "\n",
      "infix:65 \" ◇ \" => Magma.op\n",
      "\n",
      "abbrev Equation2 (G: Type _) [Magma G] := ∀ x y : G, x = y\n",
      "\n",
      "abbrev Equation4 (G: Type _) [Magma G] := ∀ x y : G, x = x ◇ y\n",
      "\n",
      "theorem Equation2_implies_Equation4 (G: Type _) [Magma G] (h: Equation2 G) : Equation4 G := by\n",
      "  sorry\n",
      "```\n",
      "\n",
      "Before producing the Lean 4 code to formally prove the given theorem, provide a detailed proof plan outlining the main proof steps and strategies.\n",
      "The plan should highlight key ideas, intermediate lemmas, and proof structures that will guide the construction of the final formal proof.<｜Assistant｜>### Detailed Proof and Analysis\n",
      "\n",
      "First, let's understand the problem:\n",
      "1. We have a type `G` and a `Magma` structure on `G`, i.e., a binary operation `◇` on `G`.\n",
      "2. The hypothesis `h : Equation2 G` means that for all `x y : G`, `x = y` (i.e., every element is equal to every other element).\n",
      "3. The goal is to prove that for all `x y : G`, `x = x ◇ y` (i.e., `Equation4 G`).\n",
      "\n",
      "#### Observations:\n",
      "1. The hypothesis `h : Equation2 G` is very strong. It implies that the type `G` has at most one element. This is because if `x` and `y` are two distinct elements of `G`, then `h x y` would give `x = y`, a contradiction.\n",
      "2. The goal `Equation4 G` is also very strong. It means that for all `x y : G`, `x = x ◇ y`. This is equivalent to saying that the operation `◇` is trivial in the sense that it does not affect the first element.\n",
      "\n",
      "#### Proof Sketch:\n",
      "1. Assume `G` is a type with a binary operation `◇` and the hypothesis `h : Equation2 G` (i.e., `∀ x y : G, x = y`).\n",
      "2. Take any `x y : G`. By `h`, we have `x = y`.\n",
      "3. We need to prove `x = x ◇ y`. But since `x = y`, we can substitute `y` for `x` to get `x = x ◇ x` (but this is not directly helpful).\n",
      "4. Alternatively, since `x = y`, we can write `x ◇ y` as `x ◇ x` (because `y = x`). But this is not true unless `G` has at most one element.\n",
      "5. However, the hypothesis `h` is too strong, and it is actually false unless `G` is a singleton. But Lean's `Magma` is a structure, and `G` is arbitrary. The hypothesis `h` is vacuously true only if `G` is a singleton, but Lean's `Magma` is a structure, and `G` is arbitrary.\n",
      "6. But wait, the hypothesis `h` is `∀ x y : G, x = y`, which is only possible if `G` is a singleton. But Lean's `Magma` is a structure, and `G` is arbitrary. The `Magma` structure is not required to satisfy any properties, so `G` could be a type with `n` elements and `◇` is some arbitrary operation.\n",
      "   - But `h` is `∀ x y : G, x = y`, which is only possible if `G` is a singleton.\n",
      "   - But Lean's `Magma` is a structure, and `G` is arbitrary. The `Magma` structure is not required to satisfy any properties, so `G` could be a type with `n` elements and `◇` is some arbitrary operation.\n",
      "   - The hypothesis `h` is `∀ x y : G, x = y`, which is only possible if `G` is a singleton.\n",
      "   - But Lean's `Magma` is a structure, and `G` is arbitrary. The `Magma` structure is not required to satisfy any properties, so `G` could be a type with `n` elements and `◇` is some arbitrary operation.\n",
      "   - The hypothesis `h` is `∀ x y : G, x = y`, which is only possible if `G` is a singleton.\n",
      "   - But Lean's `Magma` is a structure, and `G` is arbitrary. The `Magma` structure is not required to satisfy any properties, so `G` could be a type with `n` elements and `◇` is some arbitrary operation.\n",
      "   - The hypothesis `h` is `∀ x y : G, x = y`, which is only possible if `G` is a singleton.\n",
      "\n",
      "But wait, the hypothesis `h` is `∀ x y : G, x = y`, which is only possible if `G` is a singleton. But Lean's `Magma` is a structure, and `G` is arbitrary. The `Magma` structure is not required to satisfy any properties, so `G` could be a type with `n` elements and `◇` is some arbitrary operation.\n",
      "\n",
      "But the hypothesis `h` is `∀ x y : G, x = y`, which is only possible if `G` is a singleton. But Lean's `Magma` is a structure, and `G` is arbitrary. The `Magma` structure is not required to satisfy any properties, so `G` could be a type with `n` elements and `◇` is some arbitrary operation.\n",
      "\n",
      "But the hypothesis `h` is `∀ x y : G, x = y`, which is only possible if `G` is a singleton. But Lean's `Magma` is a structure, and `G` is arbitrary. The `Magma` structure is not required to satisfy any properties, so `G` could be a type with `n` elements and `◇` is some arbitrary operation.\n",
      "\n",
      "But the hypothesis `h` is `∀ x y : G, x = y`, which is only possible if `G` is a singleton. But Lean's `Magma` is a structure, and `G` is arbitrary. The `Magma` structure is not required to satisfy any properties, so `G` could be a type with `n` elements and `◇` is some arbitrary operation.\n",
      "\n",
      "But the hypothesis `h` is `∀ x y : G, x = y`, which is only possible if `G` is a singleton. But Lean's `Magma` is a structure, and `G` is arbitrary. The `Magma` structure is not required to satisfy any properties, so `G` could be a type with `n` elements and `◇` is some arbitrary operation.\n",
      "\n",
      "But the hypothesis `h` is `∀ x y : G, x = y`, which is only possible if `G` is a singleton. But Lean's `Magma` is a structure, and `G` is arbitrary. The `Magma` structure is not required to satisfy any properties, so `G` could be a type with `n` elements and `◇` is some arbitrary operation.\n",
      "\n",
      "But the hypothesis `h` is `∀ x y : G, x = y`, which is only possible if `G` is a singleton. But Lean's `Magma` is a structure, and `G` is arbitrary. The `Magma` structure is not required to satisfy any properties, so `G` could be a type with `n` elements and `◇` is some arbitrary operation.\n",
      "\n",
      "But the hypothesis `h` is `∀ x y : G, x = y`, which is only possible if `G` is a singleton. But Lean's `Magma` is a structure, and `G` is arbitrary. The `Magma` structure is not required to satisfy any properties, so `G` could be a type with `n` elements and `◇` is some arbitrary operation.\n",
      "\n",
      "But the hypothesis `h` is `∀ x y : G, x = y`, which is only possible if `G` is a singleton. But Lean's `Magma` is a structure, and `G` is arbitrary. The `Magma` structure is not required to satisfy any properties, so `G` could be a type with `n` elements and `◇` is some arbitrary operation.\n",
      "\n",
      "But the hypothesis `h` is `∀ x y : G, x = y`, which is only possible if `G` is a singleton. But Lean's `Magma` is a structure, and `G` is arbitrary. The `Magma` structure is not required to satisfy any properties, so `G` could be a type with `n` elements and `◇` is some arbitrary operation.\n",
      "\n",
      "But the hypothesis `h` is `∀ x y : G, x = y`, which is only possible if `G` is a singleton. But Lean's `Magma` is a structure, and `G` is arbitrary. The `Magma` structure is not required to satisfy any properties, so `G` could be a type with `n` elements and `◇` is some arbitrary operation.\n",
      "\n",
      "But the hypothesis `h` is `∀ x y : G, x = y`, which is only possible if `G` is a singleton. But Lean's `Magma` is a structure, and `G` is arbitrary. The `Magma` structure is not required to satisfy any properties, so `G` could be a type with `n` elements and `◇` is some arbitrary operation.\n",
      "\n",
      "But the hypothesis `h` is `∀ x y : G, x = y`, which is only possible if `G` is a singleton. But Lean's `Magma` is a structure, and `G` is arbitrary. The `Magma\n",
      "31.21000385284424\n"
     ]
    }
   ],
   "source": [
    "import time\n",
    "start = time.time()\n",
    "outputs = model.generate(inputs, max_new_tokens=8192)\n",
    "print(tokenizer.batch_decode(outputs)[0])\n",
    "print(time.time() - start)"
   ]
  },
  {
   "cell_type": "code",
   "execution_count": null,
   "id": "00df4fef",
   "metadata": {},
   "outputs": [],
   "source": []
  },
  {
   "cell_type": "code",
   "execution_count": 9,
   "id": "a206335e",
   "metadata": {},
   "outputs": [],
   "source": [
    "output = \"\"\"\n",
    "```lean4\n",
    "import Mathlib\n",
    "import Aesop\n",
    "\n",
    "set_option maxHeartbeats 0\n",
    "\n",
    "open BigOperators Real Nat Topology Rat\n",
    "\n",
    "class Magma (α : Type _) where\n",
    "  op : α → α → α\n",
    "\n",
    "infix:65 \" ◇ \" => Magma.op\n",
    "\n",
    "abbrev Equation2 (G: Type _) [Magma G] := ∀ x y : G, x = y\n",
    "\n",
    "abbrev Equation4 (G: Type _) [Magma G] := ∀ x y : G, x = x ◇ y\n",
    "\n",
    "theorem Equation2_implies_Equation4 (G: Type _) [Magma G] (h: Equation2 G) : Equation4 G := by\n",
    "  sorry\n",
    "```<｜Assistant｜>```lean4\n",
    "theorem Equation2_implies_Equation4 (G: Type _) [Magma G] (h: Equation2 G) : Equation4 G := by\n",
    "  intro x y\n",
    "  have h1 := h (x ◇ y) (x ◇ y)\n",
    "...\n",
    "  -- Simplify the expressions using the given equality x = y\n",
    "  simp_all\n",
    "```<｜end▁of▁sentence｜>\n",
    "\"\"\"\n",
    "response = output.split(\"```lean4\")[-1].split(\"```\")[0].strip()\n"
   ]
  },
  {
   "cell_type": "code",
   "execution_count": 12,
   "id": "d6cca09d",
   "metadata": {},
   "outputs": [
    {
     "name": "stdout",
     "output_type": "stream",
     "text": [
      "import Mathlib.Tactic\n",
      "\n",
      "class Magma (α : Type _) where\n",
      "  op : α → α → α\n",
      "\n",
      "infix:65 \" ◇ \" => Magma.op\n",
      "\n",
      "abbrev Equation837 (G: Type _) [Magma G] := ∀ x y z : G, x = x ◇ ((y ◇ x) ◇ (y ◇ z))\n",
      "\n",
      "abbrev Equation3 (G: Type _) [Magma G] := ∀ x : G, x = x ◇ x\n",
      "\n",
      "theorem Equation2_implies_Equation4 (G: Type _) [Magma G] (h: Equation2 G) : Equation4 G := by\n",
      "  intro x y\n",
      "  have h1 := h (x ◇ y) (x ◇ y)\n",
      "...\n",
      "  -- Simplify the expressions using the given equality x = y\n",
      "  simp_all\n"
     ]
    }
   ],
   "source": [
    "statement = \"\"\"\n",
    "import Mathlib.Tactic\n",
    "\n",
    "class Magma (α : Type _) where\n",
    "  op : α → α → α\n",
    "\n",
    "infix:65 \" ◇ \" => Magma.op\n",
    "\n",
    "abbrev Equation837 (G: Type _) [Magma G] := ∀ x y z : G, x = x ◇ ((y ◇ x) ◇ (y ◇ z))\n",
    "\n",
    "abbrev Equation3 (G: Type _) [Magma G] := ∀ x : G, x = x ◇ x\n",
    "\n",
    "theorem Equation837_not_implies_Equation3 : ∃ (G: Type) (_: Magma G), Equation837 G ∧ ¬ Equation3 G := by\n",
    "  sorry\n",
    "\"\"\"\n",
    "statement_prefix = statement.split(\"theorem\")[0].strip()\n",
    "print(statement_prefix + '\\n\\n' + response)"
   ]
  },
  {
   "cell_type": "code",
   "execution_count": null,
   "id": "04e6a54b",
   "metadata": {},
   "outputs": [],
   "source": []
  }
 ],
 "metadata": {
  "kernelspec": {
   "display_name": "grpo",
   "language": "python",
   "name": "python3"
  },
  "language_info": {
   "codemirror_mode": {
    "name": "ipython",
    "version": 3
   },
   "file_extension": ".py",
   "mimetype": "text/x-python",
   "name": "python",
   "nbconvert_exporter": "python",
   "pygments_lexer": "ipython3",
   "version": "3.10.14"
  }
 },
 "nbformat": 4,
 "nbformat_minor": 5
}
