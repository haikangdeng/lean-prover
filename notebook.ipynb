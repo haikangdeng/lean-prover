{
 "cells": [
  {
   "cell_type": "code",
   "execution_count": null,
   "id": "a8fc8344",
   "metadata": {},
   "outputs": [],
   "source": [
    "'''\n",
    "index N in 100_edges.json maps to Equation(N+1) in the dataset\n",
    "'''\n",
    "\n",
    "from transformers import set_seed\n",
    "import torch\n",
    "import json\n",
    "\n",
    "set_seed(42)\n",
    "edges = []\n",
    "\n",
    "for i in range(100):\n",
    "    source_idx, target_idx = 0, 0\n",
    "    while source_idx == target_idx:\n",
    "        source_idx = torch.randint(0, 4694, (1,)).item()\n",
    "        target_idx = torch.randint(0, 4694, (1,)).item()\n",
    "    edges.append((source_idx, target_idx))\n",
    "\n",
    "with open('100_edges.json', 'w') as f:\n",
    "    json.dump(edges, f)"
   ]
  }
 ],
 "metadata": {
  "kernelspec": {
   "display_name": "grpo",
   "language": "python",
   "name": "python3"
  },
  "language_info": {
   "name": "python",
   "version": "3.10.14"
  }
 },
 "nbformat": 4,
 "nbformat_minor": 5
}
