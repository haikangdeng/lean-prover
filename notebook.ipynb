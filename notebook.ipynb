{
 "cells": [
  {
   "cell_type": "code",
   "execution_count": null,
   "id": "a8fc8344",
   "metadata": {},
   "outputs": [],
   "source": [
    "'''\n",
    "index N in 100_edges.json maps to Equation(N+1) in the dataset\n",
    "'''\n",
    "\n",
    "from transformers import set_seed\n",
    "import torch\n",
    "import json\n",
    "\n",
    "set_seed(42)\n",
    "edges = []\n",
    "\n",
    "for i in range(100):\n",
    "    source_idx, target_idx = 0, 0\n",
    "    while source_idx == target_idx:\n",
    "        source_idx = torch.randint(0, 4694, (1,)).item()\n",
    "        target_idx = torch.randint(0, 4694, (1,)).item()\n",
    "    edges.append((source_idx, target_idx))\n",
    "\n",
    "with open('100_edges.json', 'w') as f:\n",
    "    json.dump(edges, f)"
   ]
  },
  {
   "cell_type": "code",
   "execution_count": null,
   "id": "10065b67",
   "metadata": {},
   "outputs": [
    {
     "data": {
      "text/plain": [
       "'<｜begin▁of▁sentence｜><｜User｜>What is the capital of France?<｜Assistant｜>The capital of France is Paris.<｜end▁of▁sentence｜><｜Assistant｜>'"
      ]
     },
     "execution_count": 6,
     "metadata": {},
     "output_type": "execute_result"
    }
   ],
   "source": [
    "from transformers import AutoModelForCausalLM, AutoTokenizer, set_seed\n",
    "import torch\n",
    "\n",
    "set_seed(42)\n",
    "\n",
    "model_id = \"deepseek-ai/DeepSeek-Prover-V2-7B\"\n",
    "tokenizer = AutoTokenizer.from_pretrained(model_id)\n",
    "\n",
    "prompt = \"What is the capital of France?\"\n",
    "\n",
    "chat = [\n",
    "    {\"role\": \"user\", \"content\": prompt},\n",
    "    {\"role\": \"assistant\", \"content\": \"The capital of France is Paris.\"}\n",
    "]\n",
    "\n",
    "templated = tokenizer.apply_chat_template(chat, tokenize=False, add_generation_prompt=True, return_tensors=\"pt\")\n",
    "templated\n"
   ]
  },
  {
   "cell_type": "code",
   "execution_count": 7,
   "id": "6a410065",
   "metadata": {},
   "outputs": [
    {
     "data": {
      "text/plain": [
       "'<｜begin▁of▁sentence｜><｜User｜>What is the capital of France?<｜Assistant｜>The capital of France is Paris.<｜end▁of▁sentence｜>'"
      ]
     },
     "execution_count": 7,
     "metadata": {},
     "output_type": "execute_result"
    }
   ],
   "source": [
    "chat = [\n",
    "    {\"role\": \"user\", \"content\": prompt},\n",
    "    {\"role\": \"assistant\", \"content\": \"The capital of France is Paris.\"}\n",
    "]\n",
    "\n",
    "templated = tokenizer.apply_chat_template(chat, tokenize=False, add_generation_prompt=False, return_tensors=\"pt\")\n",
    "templated"
   ]
  },
  {
   "cell_type": "code",
   "execution_count": null,
   "id": "a8eb32ac",
   "metadata": {},
   "outputs": [
    {
     "data": {
      "text/plain": [
       "'<｜begin▁of▁sentence｜><｜User｜>What is the capital of France?<｜Assistant｜>The capital of France is Paris.<｜end▁of▁sentence｜><｜Assistant｜'"
      ]
     },
     "execution_count": 11,
     "metadata": {},
     "output_type": "execute_result"
    }
   ],
   "source": [
    "chat = [\n",
    "    {\"role\": \"user\", \"content\": prompt},\n",
    "    {\"role\": \"assistant\", \"content\": \"The capital of France is Paris.\"}\n",
    "]\n",
    "\n",
    "templated = tokenizer.apply_chat_template(chat, tokenize=True, add_generation_prompt=True, return_tensors=\"pt\")\n",
    "templated"
   ]
  },
  {
   "cell_type": "code",
   "execution_count": 9,
   "id": "1c971be7",
   "metadata": {},
   "outputs": [
    {
     "data": {
      "text/plain": [
       "'<｜begin▁of▁sentence｜><｜User｜>What is the capital of France?<｜Assistant｜>'"
      ]
     },
     "execution_count": 9,
     "metadata": {},
     "output_type": "execute_result"
    }
   ],
   "source": [
    "chat = [\n",
    "    {\"role\": \"user\", \"content\": prompt}\n",
    "]\n",
    "\n",
    "templated = tokenizer.apply_chat_template(chat, tokenize=False, add_generation_prompt=True, return_tensors=\"pt\")\n",
    "templated"
   ]
  },
  {
   "cell_type": "code",
   "execution_count": 10,
   "id": "fe42edbf",
   "metadata": {},
   "outputs": [
    {
     "data": {
      "text/plain": [
       "'<｜begin▁of▁sentence｜><｜User｜>What is the capital of France?<｜Assistant｜>'"
      ]
     },
     "execution_count": 10,
     "metadata": {},
     "output_type": "execute_result"
    }
   ],
   "source": [
    "chat = [\n",
    "    {\"role\": \"user\", \"content\": prompt}\n",
    "]\n",
    "\n",
    "templated = tokenizer.apply_chat_template(chat, tokenize=False, add_generation_prompt=False, return_tensors=\"pt\")\n",
    "templated"
   ]
  },
  {
   "cell_type": "code",
   "execution_count": null,
   "id": "3c5c3ba9",
   "metadata": {},
   "outputs": [],
   "source": []
  }
 ],
 "metadata": {
  "kernelspec": {
   "display_name": "grpo",
   "language": "python",
   "name": "python3"
  },
  "language_info": {
   "codemirror_mode": {
    "name": "ipython",
    "version": 3
   },
   "file_extension": ".py",
   "mimetype": "text/x-python",
   "name": "python",
   "nbconvert_exporter": "python",
   "pygments_lexer": "ipython3",
   "version": "3.10.14"
  }
 },
 "nbformat": 4,
 "nbformat_minor": 5
}
